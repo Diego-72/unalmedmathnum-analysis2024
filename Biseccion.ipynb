{
 "cells": [
  {
   "cell_type": "code",
   "execution_count": 15,
   "id": "3226975c",
   "metadata": {},
   "outputs": [
    {
     "name": "stdout",
     "output_type": "stream",
     "text": [
      "1\n",
      "0.6417143708677031\n",
      "-6.333156221671743e-12\n"
     ]
    }
   ],
   "source": [
    "import numpy as np  # Importa la librería numpy, que proporciona funciones matemáticas avanzadas.\n",
    "\n",
    "# Definición del método de bisección\n",
    "def metodobiseccion(f, a, b, tol, contador_it):\n",
    "    \n",
    "    # Verifica si el intervalo es adecuado para aplicar el método de bisección\n",
    "    if f(a) * f(b) > 0:\n",
    "        print('error')  # Si f(a) y f(b) tienen el mismo signo, no hay raíz en el intervalo [a, b]\n",
    "    else:\n",
    "        # Asigna los valores iniciales de a y b\n",
    "        a0 = a\n",
    "        b0 = b\n",
    "        # Calcula el punto medio del intervalo\n",
    "        p0 = a0 + (b0 - a0) / 2\n",
    "        # Determina en qué subintervalo continuar la búsqueda\n",
    "        if f(a0) * f(p0) < 0:  # Si el signo cambia entre a0 y p0, actualiza b0\n",
    "            b0 = p0\n",
    "            error = abs(p0 - a0) / abs(p0)  # Calcula el error relativo\n",
    "        elif f(b0) * f(p0) < 0:  # Si el signo cambia entre p0 y b0, actualiza a0\n",
    "            a0 = p0\n",
    "            error = abs(p0 - b0) / abs(p0)  # Calcula el error relativo\n",
    "        \n",
    "        # Si el error es mayor que la tolerancia, llama recursivamente a la función con el nuevo intervalo\n",
    "        if error > tol:\n",
    "            return metodobiseccion(f, a0, b0, tol, contador_it)\n",
    "        \n",
    "    # Incrementa el contador de iteraciones al final de la ejecución\n",
    "    contador_it = contador_it + 1\n",
    "    print(contador_it)  # Imprime el número de iteraciones realizadas\n",
    "        \n",
    "    return p0  # Devuelve el valor aproximado de la raíz\n",
    "\n",
    "# Define la función para la cual se buscará la raíz\n",
    "def f(x):\n",
    "    return np.sqrt(x) - np.cos(x)\n",
    "\n",
    "# Llama al método de bisección con la función f, intervalo [0,1], tolerancia 10^(-3), y contador inicial en 0\n",
    "raiz = metodobiseccion(f, 0, 1, 10**(-10), 0)\n",
    "\n",
    "# Imprime el valor de la raíz aproximada y el valor de la función en la raíz\n",
    "print(raiz)\n",
    "print(f(raiz))\n"
   ]
  },
  {
   "cell_type": "code",
   "execution_count": null,
   "id": "9350c661",
   "metadata": {},
   "outputs": [],
   "source": []
  }
 ],
 "metadata": {
  "kernelspec": {
   "display_name": "Python 3 (ipykernel)",
   "language": "python",
   "name": "python3"
  },
  "language_info": {
   "codemirror_mode": {
    "name": "ipython",
    "version": 3
   },
   "file_extension": ".py",
   "mimetype": "text/x-python",
   "name": "python",
   "nbconvert_exporter": "python",
   "pygments_lexer": "ipython3",
   "version": "3.9.13"
  }
 },
 "nbformat": 4,
 "nbformat_minor": 5
}
