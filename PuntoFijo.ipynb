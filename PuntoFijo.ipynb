{
 "cells": [
  {
   "cell_type": "code",
   "execution_count": null,
   "id": "3226975c",
   "metadata": {},
   "outputs": [
    {
     "name": "stdout",
     "output_type": "stream",
     "text": [
      "1.3652300134140969\n",
      "1.3652300134140969\n",
      "0.0\n"
     ]
    }
   ],
   "source": [
    "import numpy as np  # Import the numpy library for numerical operations\n",
    "\n",
    "# Definition of the fixed-point method\n",
    "def fixed_point_method(g, p0, tol=1e-6, max_iter=100):\n",
    "    \"\"\"\n",
    "    Implements the fixed-point iteration method to find a fixed point of the function g.\n",
    "\n",
    "    Parameters:\n",
    "    - g: Function for which the fixed point is sought.\n",
    "    - p0: Initial approximation.\n",
    "    - tol: Tolerance for the convergence criterion.\n",
    "    - max_iter: Maximum number of iterations allowed.\n",
    "\n",
    "    Returns:\n",
    "    - p: Approximation of the fixed point.\n",
    "    - None: If it does not converge within the maximum number of iterations.\n",
    "    \"\"\"\n",
    "    p = p0\n",
    "    for n in range(1, max_iter + 1):\n",
    "        p_next = g(p)\n",
    "        # Check if the difference is less than the tolerance\n",
    "        if abs(p_next - p) < tol:\n",
    "            print(f\"Converged in {n} iterations.\")\n",
    "            return p_next\n",
    "        p = p_next\n",
    "    # If it does not converge within the maximum number of iterations\n",
    "    print(f\"Did not converge after {max_iter} iterations.\")\n",
    "    return None\n",
    "\n",
    "# Define the function for which the fixed point will be sought\n",
    "def g(x):\n",
    "    return 0.5 * np.sqrt(10 - x**3)\n",
    "\n",
    "# Appropriate initial value based on the analysis\n",
    "p0 = 1.5\n",
    "\n",
    "# Call the fixed-point method\n",
    "fixed_point = fixed_point_method(g, p0, tol=1e-6, max_iter=100)\n",
    "\n",
    "# Check if a fixed point was found and display the results\n",
    "if fixed_point is not None:\n",
    "    print(\"Approximate fixed point:\", fixed_point)\n",
    "    print(\"g(fixed point):\", g(fixed_point))\n",
    "    print(\"Absolute error:\", abs(fixed_point - g(fixed_point)))\n",
    "else:\n",
    "    print(\"No fixed point found.\")"
   ]
  },
  {
   "cell_type": "code",
   "execution_count": null,
   "id": "9350c661",
   "metadata": {},
   "outputs": [],
   "source": []
  }
 ],
 "metadata": {
  "kernelspec": {
   "display_name": "Python 3 (ipykernel)",
   "language": "python",
   "name": "python3"
  },
  "language_info": {
   "codemirror_mode": {
    "name": "ipython",
    "version": 3
   },
   "file_extension": ".py",
   "mimetype": "text/x-python",
   "name": "python",
   "nbconvert_exporter": "python",
   "pygments_lexer": "ipython3",
   "version": "3.9.13"
  }
 },
 "nbformat": 4,
 "nbformat_minor": 5
}
