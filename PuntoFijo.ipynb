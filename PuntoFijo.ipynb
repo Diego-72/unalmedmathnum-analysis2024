{
 "cells": [
  {
   "cell_type": "code",
   "execution_count": 5,
   "id": "3226975c",
   "metadata": {},
   "outputs": [
    {
     "name": "stdout",
     "output_type": "stream",
     "text": [
      "1.3652300134140969\n",
      "1.3652300134140969\n",
      "0.0\n"
     ]
    }
   ],
   "source": [
    "import numpy as np  # Importa la librería numpy\n",
    "\n",
    "# Definición del método de bisección\n",
    "def metodo_puntofijo(g, p0, tol, max_iter):\n",
    "    \n",
    "    p = p0\n",
    "    for n in range(1, max_iter + 1):\n",
    "        p_next = g(p)\n",
    "        \n",
    "        # Verificamos si la diferencia es menor que la tolerancia\n",
    "        if abs(p_next - p)/abs(p_next) < tol:\n",
    "            return p_next\n",
    "        p = p_next\n",
    "    \n",
    "    # Si no converge dentro del número máximo de iteraciones\n",
    "    return None\n",
    "\n",
    "\n",
    "# Define la función para la cual se buscará el punto fijo\n",
    "def g(x):\n",
    "    return 1/2*np.sqrt(10-x**3)\n",
    "\n",
    "# Llama al método de punto fijo \n",
    "pfijo = metodo_puntofijo(g, 0, 10**(-16), 100)\n",
    "\n",
    "# Imprime el valor de la raíz aproximada y el valor de la función en la raíz\n",
    "print(pfijo)\n",
    "print(g(pfijo))\n",
    "print(abs(pfijo-g(pfijo)))\n"
   ]
  },
  {
   "cell_type": "code",
   "execution_count": null,
   "id": "9350c661",
   "metadata": {},
   "outputs": [],
   "source": []
  }
 ],
 "metadata": {
  "kernelspec": {
   "display_name": "Python 3 (ipykernel)",
   "language": "python",
   "name": "python3"
  },
  "language_info": {
   "codemirror_mode": {
    "name": "ipython",
    "version": 3
   },
   "file_extension": ".py",
   "mimetype": "text/x-python",
   "name": "python",
   "nbconvert_exporter": "python",
   "pygments_lexer": "ipython3",
   "version": "3.9.13"
  }
 },
 "nbformat": 4,
 "nbformat_minor": 5
}
