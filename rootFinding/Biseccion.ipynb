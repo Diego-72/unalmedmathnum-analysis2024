{
 "cells": [
  {
   "cell_type": "code",
   "execution_count": null,
   "id": "3226975c",
   "metadata": {},
   "outputs": [
    {
     "name": "stdout",
     "output_type": "stream",
     "text": [
      "0.6417143708094954\n",
      "7.750566854980434e-11\n"
     ]
    }
   ],
   "source": [
    "import numpy as np  # Import the numpy library\n",
    "\n",
    "def bisection_method(f, a, b, tol=1e-6, max_iter=1000):\n",
    "    \"\"\"\n",
    "    Finds an approximate root of a continuous function f within a given interval [a, b] using the bisection method.\n",
    "\n",
    "    Parameters:\n",
    "    - f (function): The function for which the root is to be found. It should be continuous in [a, b].\n",
    "    - a (float): The start of the interval.\n",
    "    - b (float): The end of the interval.\n",
    "    - tol (float): The tolerance for the root approximation. The algorithm stops when the error is below this value.\n",
    "    - max_iter (int): The maximum number of iterations to prevent infinite loops if convergence is not reached.\n",
    "\n",
    "    Returns:\n",
    "    - float: An approximate value for the root of the function f in the interval [a, b].\n",
    "    - None: Returns None if no root is found or the maximum number of iterations is reached.\n",
    "\n",
    "    Raises:\n",
    "    - ValueError: If f(a) and f(b) do not have opposite signs, meaning no root is guaranteed in [a, b].\n",
    "    \"\"\"\n",
    "    # Verify if the interval is suitable for the bisection method\n",
    "    if f(a) * f(b) > 0:\n",
    "        print('Error: The interval is not valid for the bisection method.')\n",
    "        return None  # Stop execution if there is no sign change\n",
    "\n",
    "    # Initialize variables\n",
    "    a0 = a\n",
    "    b0 = b\n",
    "    iteration_counter = 0  # Initialize the iteration counter\n",
    "\n",
    "    while iteration_counter < max_iter:\n",
    "        iteration_counter += 1  # Increment the iteration counter\n",
    "\n",
    "        # Calculate the midpoint of the interval\n",
    "        p0 = a0 + (b0 - a0) / 2\n",
    "\n",
    "        # Check if the midpoint is the root or if the error is acceptable\n",
    "        if abs(f(p0)) < 1e-10 or (b0 - a0) / 2 < tol:\n",
    "            print(f'Number of iterations: {iteration_counter}')\n",
    "            return p0  # Return the approximate root\n",
    "\n",
    "        # Determine in which subinterval to continue the search\n",
    "        if f(a0) * f(p0) < 0:\n",
    "            b0 = p0  # The root is in [a0, p0]\n",
    "        elif f(p0) * f(b0) < 0:\n",
    "            a0 = p0  # The root is in [p0, b0]\n",
    "        else:\n",
    "            # Case when f(p0) is zero or very close to zero\n",
    "            print(f'Number of iterations: {iteration_counter}')\n",
    "            return p0  # Return the exact or approximate root\n",
    "\n",
    "    # If the maximum number of iterations is reached without convergence\n",
    "    print('Error: Maximum number of iterations reached without convergence.')\n",
    "    return None\n",
    "\n",
    "# Define the function for which the root will be searched\n",
    "def f(x):\n",
    "    return np.sqrt(x) - np.cos(x)\n",
    "\n",
    "# Call the bisection method with the function f, interval [0,1], tolerance 1e-16\n",
    "root = bisection_method(f, 0, 1, tol=1e-16)\n",
    "\n",
    "# Check if a root was found and print it\n",
    "if root is not None:\n",
    "    print(f'Approximate root: {root}')\n",
    "    print(f'Value of f(root): {f(root)}')\n",
    "\n",
    "\n",
    "\n"
   ]
  },
  {
   "cell_type": "code",
   "execution_count": null,
   "id": "9350c661",
   "metadata": {},
   "outputs": [],
   "source": []
  }
 ],
 "metadata": {
  "kernelspec": {
   "display_name": "Python 3",
   "language": "python",
   "name": "python3"
  },
  "language_info": {
   "codemirror_mode": {
    "name": "ipython",
    "version": 3
   },
   "file_extension": ".py",
   "mimetype": "text/x-python",
   "name": "python",
   "nbconvert_exporter": "python",
   "pygments_lexer": "ipython3",
   "version": "3.12.1"
  }
 },
 "nbformat": 4,
 "nbformat_minor": 5
}
